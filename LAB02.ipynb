{
 "cells": [
  {
   "cell_type": "markdown",
   "id": "cbe3d747",
   "metadata": {},
   "source": [
    "Instalar dependencias"
   ]
  },
  {
   "cell_type": "code",
   "execution_count": 176,
   "id": "e19d8624",
   "metadata": {},
   "outputs": [],
   "source": [
    "# import sys\n",
    "# !{sys.executable} -m pip install nltk\n",
    "# !{sys.executable} -m pip install contractions\n",
    "# !{sys.executable} -m pip install Unidecode"
   ]
  },
  {
   "cell_type": "markdown",
   "id": "81403133",
   "metadata": {},
   "source": [
    "#### Importar"
   ]
  },
  {
   "cell_type": "code",
   "execution_count": 177,
   "id": "c90e7875",
   "metadata": {},
   "outputs": [
    {
     "name": "stderr",
     "output_type": "stream",
     "text": [
      "[nltk_data] Downloading package punkt to\n",
      "[nltk_data]     /Users/douglasdeleon/nltk_data...\n",
      "[nltk_data]   Package punkt is already up-to-date!\n",
      "[nltk_data] Downloading package wordnet to\n",
      "[nltk_data]     /Users/douglasdeleon/nltk_data...\n",
      "[nltk_data]   Package wordnet is already up-to-date!\n",
      "[nltk_data] Downloading package stopwords to\n",
      "[nltk_data]     /Users/douglasdeleon/nltk_data...\n",
      "[nltk_data]   Package stopwords is already up-to-date!\n",
      "[nltk_data] Downloading package averaged_perceptron_tagger to\n",
      "[nltk_data]     /Users/douglasdeleon/nltk_data...\n",
      "[nltk_data]   Package averaged_perceptron_tagger is already up-to-\n",
      "[nltk_data]       date!\n",
      "[nltk_data] Downloading package omw-1.4 to\n",
      "[nltk_data]     /Users/douglasdeleon/nltk_data...\n",
      "[nltk_data]   Package omw-1.4 is already up-to-date!\n"
     ]
    }
   ],
   "source": [
    "import nltk\n",
    "nltk.download('punkt')\n",
    "nltk.download('wordnet')\n",
    "nltk.download('stopwords')\n",
    "nltk.download('averaged_perceptron_tagger')\n",
    "nltk.download('omw-1.4')\n",
    "import pandas as pd\n",
    "import numpy as np\n",
    "\n",
    "from sklearn.feature_extraction.text import CountVectorizer\n",
    "from sklearn.feature_extraction.text import TfidfVectorizer"
   ]
  },
  {
   "cell_type": "markdown",
   "id": "c5acbc37",
   "metadata": {},
   "source": [
    "## Exploración"
   ]
  },
  {
   "cell_type": "code",
   "execution_count": 178,
   "id": "6e367906",
   "metadata": {},
   "outputs": [],
   "source": [
    "spam_assassin_dt = pd.read_csv(\"./completeSpamAssassin.csv\")\n",
    "enron_spam_dt = pd.read_csv(\"./enronSpamSubset.csv\")"
   ]
  },
  {
   "cell_type": "code",
   "execution_count": 179,
   "id": "27b99364",
   "metadata": {},
   "outputs": [
    {
     "data": {
      "text/html": [
       "<div>\n",
       "<style scoped>\n",
       "    .dataframe tbody tr th:only-of-type {\n",
       "        vertical-align: middle;\n",
       "    }\n",
       "\n",
       "    .dataframe tbody tr th {\n",
       "        vertical-align: top;\n",
       "    }\n",
       "\n",
       "    .dataframe thead th {\n",
       "        text-align: right;\n",
       "    }\n",
       "</style>\n",
       "<table border=\"1\" class=\"dataframe\">\n",
       "  <thead>\n",
       "    <tr style=\"text-align: right;\">\n",
       "      <th></th>\n",
       "      <th>Unnamed: 0</th>\n",
       "      <th>Body</th>\n",
       "      <th>Label</th>\n",
       "    </tr>\n",
       "  </thead>\n",
       "  <tbody>\n",
       "    <tr>\n",
       "      <th>0</th>\n",
       "      <td>0</td>\n",
       "      <td>\\nSave up to 70% on Life Insurance.\\nWhy Spend...</td>\n",
       "      <td>1</td>\n",
       "    </tr>\n",
       "    <tr>\n",
       "      <th>1</th>\n",
       "      <td>1</td>\n",
       "      <td>1) Fight The Risk of Cancer!\\nhttp://www.adcli...</td>\n",
       "      <td>1</td>\n",
       "    </tr>\n",
       "    <tr>\n",
       "      <th>2</th>\n",
       "      <td>2</td>\n",
       "      <td>1) Fight The Risk of Cancer!\\nhttp://www.adcli...</td>\n",
       "      <td>1</td>\n",
       "    </tr>\n",
       "    <tr>\n",
       "      <th>3</th>\n",
       "      <td>3</td>\n",
       "      <td>##############################################...</td>\n",
       "      <td>1</td>\n",
       "    </tr>\n",
       "    <tr>\n",
       "      <th>4</th>\n",
       "      <td>4</td>\n",
       "      <td>I thought you might like these:\\n1) Slim Down ...</td>\n",
       "      <td>1</td>\n",
       "    </tr>\n",
       "  </tbody>\n",
       "</table>\n",
       "</div>"
      ],
      "text/plain": [
       "   Unnamed: 0                                               Body  Label\n",
       "0           0  \\nSave up to 70% on Life Insurance.\\nWhy Spend...      1\n",
       "1           1  1) Fight The Risk of Cancer!\\nhttp://www.adcli...      1\n",
       "2           2  1) Fight The Risk of Cancer!\\nhttp://www.adcli...      1\n",
       "3           3  ##############################################...      1\n",
       "4           4  I thought you might like these:\\n1) Slim Down ...      1"
      ]
     },
     "execution_count": 179,
     "metadata": {},
     "output_type": "execute_result"
    }
   ],
   "source": [
    "spam_assassin_dt.head()"
   ]
  },
  {
   "cell_type": "code",
   "execution_count": 180,
   "id": "2b724a36",
   "metadata": {},
   "outputs": [
    {
     "data": {
      "text/html": [
       "<div>\n",
       "<style scoped>\n",
       "    .dataframe tbody tr th:only-of-type {\n",
       "        vertical-align: middle;\n",
       "    }\n",
       "\n",
       "    .dataframe tbody tr th {\n",
       "        vertical-align: top;\n",
       "    }\n",
       "\n",
       "    .dataframe thead th {\n",
       "        text-align: right;\n",
       "    }\n",
       "</style>\n",
       "<table border=\"1\" class=\"dataframe\">\n",
       "  <thead>\n",
       "    <tr style=\"text-align: right;\">\n",
       "      <th></th>\n",
       "      <th>Unnamed: 0</th>\n",
       "      <th>Unnamed: 0.1</th>\n",
       "      <th>Body</th>\n",
       "      <th>Label</th>\n",
       "    </tr>\n",
       "  </thead>\n",
       "  <tbody>\n",
       "    <tr>\n",
       "      <th>0</th>\n",
       "      <td>2469</td>\n",
       "      <td>2469</td>\n",
       "      <td>Subject: stock promo mover : cwtd\\n * * * urge...</td>\n",
       "      <td>1</td>\n",
       "    </tr>\n",
       "    <tr>\n",
       "      <th>1</th>\n",
       "      <td>5063</td>\n",
       "      <td>5063</td>\n",
       "      <td>Subject: are you listed in major search engine...</td>\n",
       "      <td>1</td>\n",
       "    </tr>\n",
       "    <tr>\n",
       "      <th>2</th>\n",
       "      <td>12564</td>\n",
       "      <td>12564</td>\n",
       "      <td>Subject: important information thu , 30 jun 20...</td>\n",
       "      <td>1</td>\n",
       "    </tr>\n",
       "    <tr>\n",
       "      <th>3</th>\n",
       "      <td>2796</td>\n",
       "      <td>2796</td>\n",
       "      <td>Subject: = ? utf - 8 ? q ? bask your life with...</td>\n",
       "      <td>1</td>\n",
       "    </tr>\n",
       "    <tr>\n",
       "      <th>4</th>\n",
       "      <td>1468</td>\n",
       "      <td>1468</td>\n",
       "      <td>Subject: \" bidstogo \" is places to go , things...</td>\n",
       "      <td>1</td>\n",
       "    </tr>\n",
       "  </tbody>\n",
       "</table>\n",
       "</div>"
      ],
      "text/plain": [
       "   Unnamed: 0  Unnamed: 0.1  \\\n",
       "0        2469          2469   \n",
       "1        5063          5063   \n",
       "2       12564         12564   \n",
       "3        2796          2796   \n",
       "4        1468          1468   \n",
       "\n",
       "                                                Body  Label  \n",
       "0  Subject: stock promo mover : cwtd\\n * * * urge...      1  \n",
       "1  Subject: are you listed in major search engine...      1  \n",
       "2  Subject: important information thu , 30 jun 20...      1  \n",
       "3  Subject: = ? utf - 8 ? q ? bask your life with...      1  \n",
       "4  Subject: \" bidstogo \" is places to go , things...      1  "
      ]
     },
     "execution_count": 180,
     "metadata": {},
     "output_type": "execute_result"
    }
   ],
   "source": [
    "enron_spam_dt.head()"
   ]
  },
  {
   "cell_type": "markdown",
   "id": "68257545",
   "metadata": {},
   "source": [
    "Procederemos a remover las columnas que no nos son útiles para poder unir nuestros data sets"
   ]
  },
  {
   "cell_type": "code",
   "execution_count": 181,
   "id": "9c240992",
   "metadata": {},
   "outputs": [
    {
     "name": "stdout",
     "output_type": "stream",
     "text": [
      "Columnas spam_assassin_dt:  Index(['Body', 'Label'], dtype='object')\n",
      "Columnas enron_spam_dt:  Index(['Body', 'Label'], dtype='object')\n"
     ]
    }
   ],
   "source": [
    "spam_assassin_dt = spam_assassin_dt.drop([\"Unnamed: 0\"], axis = 1)\n",
    "enron_spam_dt = enron_spam_dt.drop(columns=[\"Unnamed: 0\", \"Unnamed: 0.1\"], axis = 1)\n",
    "print(\"Columnas spam_assassin_dt: \", spam_assassin_dt.columns)\n",
    "print(\"Columnas enron_spam_dt: \", enron_spam_dt.columns)"
   ]
  },
  {
   "cell_type": "markdown",
   "id": "ab8125d0",
   "metadata": {},
   "source": [
    "Observamos nustros flags dentro de `Label` para ver si ambas cumplen de una manera binaria para ver si son spam o no"
   ]
  },
  {
   "cell_type": "code",
   "execution_count": 182,
   "id": "37d90a59",
   "metadata": {},
   "outputs": [
    {
     "data": {
      "text/plain": [
       "array([1, 0])"
      ]
     },
     "execution_count": 182,
     "metadata": {},
     "output_type": "execute_result"
    }
   ],
   "source": [
    "enron_spam_dt[\"Label\"].unique()"
   ]
  },
  {
   "cell_type": "code",
   "execution_count": 183,
   "id": "0f177b32",
   "metadata": {},
   "outputs": [
    {
     "data": {
      "text/plain": [
       "array([1, 0])"
      ]
     },
     "execution_count": 183,
     "metadata": {},
     "output_type": "execute_result"
    }
   ],
   "source": [
    "spam_assassin_dt[\"Label\"].unique()"
   ]
  },
  {
   "cell_type": "markdown",
   "id": "66b44e1c",
   "metadata": {},
   "source": [
    "### Ejemplos no SPAM"
   ]
  },
  {
   "cell_type": "code",
   "execution_count": 184,
   "id": "74f11799",
   "metadata": {},
   "outputs": [
    {
     "data": {
      "text/html": [
       "<div>\n",
       "<style scoped>\n",
       "    .dataframe tbody tr th:only-of-type {\n",
       "        vertical-align: middle;\n",
       "    }\n",
       "\n",
       "    .dataframe tbody tr th {\n",
       "        vertical-align: top;\n",
       "    }\n",
       "\n",
       "    .dataframe thead th {\n",
       "        text-align: right;\n",
       "    }\n",
       "</style>\n",
       "<table border=\"1\" class=\"dataframe\">\n",
       "  <thead>\n",
       "    <tr style=\"text-align: right;\">\n",
       "      <th></th>\n",
       "      <th>Body</th>\n",
       "      <th>Label</th>\n",
       "    </tr>\n",
       "  </thead>\n",
       "  <tbody>\n",
       "    <tr>\n",
       "      <th>0</th>\n",
       "      <td>Subject: stock promo mover : cwtd\\n * * * urge...</td>\n",
       "      <td>1</td>\n",
       "    </tr>\n",
       "    <tr>\n",
       "      <th>1</th>\n",
       "      <td>Subject: are you listed in major search engine...</td>\n",
       "      <td>1</td>\n",
       "    </tr>\n",
       "    <tr>\n",
       "      <th>2</th>\n",
       "      <td>Subject: important information thu , 30 jun 20...</td>\n",
       "      <td>1</td>\n",
       "    </tr>\n",
       "    <tr>\n",
       "      <th>3</th>\n",
       "      <td>Subject: = ? utf - 8 ? q ? bask your life with...</td>\n",
       "      <td>1</td>\n",
       "    </tr>\n",
       "    <tr>\n",
       "      <th>4</th>\n",
       "      <td>Subject: \" bidstogo \" is places to go , things...</td>\n",
       "      <td>1</td>\n",
       "    </tr>\n",
       "  </tbody>\n",
       "</table>\n",
       "</div>"
      ],
      "text/plain": [
       "                                                Body  Label\n",
       "0  Subject: stock promo mover : cwtd\\n * * * urge...      1\n",
       "1  Subject: are you listed in major search engine...      1\n",
       "2  Subject: important information thu , 30 jun 20...      1\n",
       "3  Subject: = ? utf - 8 ? q ? bask your life with...      1\n",
       "4  Subject: \" bidstogo \" is places to go , things...      1"
      ]
     },
     "execution_count": 184,
     "metadata": {},
     "output_type": "execute_result"
    }
   ],
   "source": [
    "enron_spam_dt.loc[enron_spam_dt['Label'] == 1].head()"
   ]
  },
  {
   "cell_type": "code",
   "execution_count": 185,
   "id": "c60accb2",
   "metadata": {},
   "outputs": [
    {
     "data": {
      "text/html": [
       "<div>\n",
       "<style scoped>\n",
       "    .dataframe tbody tr th:only-of-type {\n",
       "        vertical-align: middle;\n",
       "    }\n",
       "\n",
       "    .dataframe tbody tr th {\n",
       "        vertical-align: top;\n",
       "    }\n",
       "\n",
       "    .dataframe thead th {\n",
       "        text-align: right;\n",
       "    }\n",
       "</style>\n",
       "<table border=\"1\" class=\"dataframe\">\n",
       "  <thead>\n",
       "    <tr style=\"text-align: right;\">\n",
       "      <th></th>\n",
       "      <th>Body</th>\n",
       "      <th>Label</th>\n",
       "    </tr>\n",
       "  </thead>\n",
       "  <tbody>\n",
       "    <tr>\n",
       "      <th>0</th>\n",
       "      <td>\\nSave up to 70% on Life Insurance.\\nWhy Spend...</td>\n",
       "      <td>1</td>\n",
       "    </tr>\n",
       "    <tr>\n",
       "      <th>1</th>\n",
       "      <td>1) Fight The Risk of Cancer!\\nhttp://www.adcli...</td>\n",
       "      <td>1</td>\n",
       "    </tr>\n",
       "    <tr>\n",
       "      <th>2</th>\n",
       "      <td>1) Fight The Risk of Cancer!\\nhttp://www.adcli...</td>\n",
       "      <td>1</td>\n",
       "    </tr>\n",
       "    <tr>\n",
       "      <th>3</th>\n",
       "      <td>##############################################...</td>\n",
       "      <td>1</td>\n",
       "    </tr>\n",
       "    <tr>\n",
       "      <th>4</th>\n",
       "      <td>I thought you might like these:\\n1) Slim Down ...</td>\n",
       "      <td>1</td>\n",
       "    </tr>\n",
       "  </tbody>\n",
       "</table>\n",
       "</div>"
      ],
      "text/plain": [
       "                                                Body  Label\n",
       "0  \\nSave up to 70% on Life Insurance.\\nWhy Spend...      1\n",
       "1  1) Fight The Risk of Cancer!\\nhttp://www.adcli...      1\n",
       "2  1) Fight The Risk of Cancer!\\nhttp://www.adcli...      1\n",
       "3  ##############################################...      1\n",
       "4  I thought you might like these:\\n1) Slim Down ...      1"
      ]
     },
     "execution_count": 185,
     "metadata": {},
     "output_type": "execute_result"
    }
   ],
   "source": [
    "spam_assassin_dt.loc[spam_assassin_dt['Label'] == 1].head()"
   ]
  },
  {
   "cell_type": "markdown",
   "id": "3a4a27d5",
   "metadata": {},
   "source": [
    "### Ejemplos  SPAM"
   ]
  },
  {
   "cell_type": "code",
   "execution_count": 186,
   "id": "a3675504",
   "metadata": {},
   "outputs": [
    {
     "data": {
      "text/html": [
       "<div>\n",
       "<style scoped>\n",
       "    .dataframe tbody tr th:only-of-type {\n",
       "        vertical-align: middle;\n",
       "    }\n",
       "\n",
       "    .dataframe tbody tr th {\n",
       "        vertical-align: top;\n",
       "    }\n",
       "\n",
       "    .dataframe thead th {\n",
       "        text-align: right;\n",
       "    }\n",
       "</style>\n",
       "<table border=\"1\" class=\"dataframe\">\n",
       "  <thead>\n",
       "    <tr style=\"text-align: right;\">\n",
       "      <th></th>\n",
       "      <th>Body</th>\n",
       "      <th>Label</th>\n",
       "    </tr>\n",
       "  </thead>\n",
       "  <tbody>\n",
       "    <tr>\n",
       "      <th>5000</th>\n",
       "      <td>Subject: re : legislative report ( 07 / 20 / 2...</td>\n",
       "      <td>0</td>\n",
       "    </tr>\n",
       "    <tr>\n",
       "      <th>5001</th>\n",
       "      <td>Subject: re : video conference with ross mcint...</td>\n",
       "      <td>0</td>\n",
       "    </tr>\n",
       "    <tr>\n",
       "      <th>5002</th>\n",
       "      <td>Subject: intern compensation\\n sally :\\n summe...</td>\n",
       "      <td>0</td>\n",
       "    </tr>\n",
       "    <tr>\n",
       "      <th>5003</th>\n",
       "      <td>Subject: jeff mcmahon named cfo\\n today we ann...</td>\n",
       "      <td>0</td>\n",
       "    </tr>\n",
       "    <tr>\n",
       "      <th>5004</th>\n",
       "      <td>Subject: re :\\n frank ,\\n yes .\\n vince\\n from...</td>\n",
       "      <td>0</td>\n",
       "    </tr>\n",
       "  </tbody>\n",
       "</table>\n",
       "</div>"
      ],
      "text/plain": [
       "                                                   Body  Label\n",
       "5000  Subject: re : legislative report ( 07 / 20 / 2...      0\n",
       "5001  Subject: re : video conference with ross mcint...      0\n",
       "5002  Subject: intern compensation\\n sally :\\n summe...      0\n",
       "5003  Subject: jeff mcmahon named cfo\\n today we ann...      0\n",
       "5004  Subject: re :\\n frank ,\\n yes .\\n vince\\n from...      0"
      ]
     },
     "execution_count": 186,
     "metadata": {},
     "output_type": "execute_result"
    }
   ],
   "source": [
    "enron_spam_dt.loc[enron_spam_dt['Label'] == 0].head()"
   ]
  },
  {
   "cell_type": "code",
   "execution_count": 187,
   "id": "1999a11c",
   "metadata": {},
   "outputs": [
    {
     "data": {
      "text/html": [
       "<div>\n",
       "<style scoped>\n",
       "    .dataframe tbody tr th:only-of-type {\n",
       "        vertical-align: middle;\n",
       "    }\n",
       "\n",
       "    .dataframe tbody tr th {\n",
       "        vertical-align: top;\n",
       "    }\n",
       "\n",
       "    .dataframe thead th {\n",
       "        text-align: right;\n",
       "    }\n",
       "</style>\n",
       "<table border=\"1\" class=\"dataframe\">\n",
       "  <thead>\n",
       "    <tr style=\"text-align: right;\">\n",
       "      <th></th>\n",
       "      <th>Body</th>\n",
       "      <th>Label</th>\n",
       "    </tr>\n",
       "  </thead>\n",
       "  <tbody>\n",
       "    <tr>\n",
       "      <th>1896</th>\n",
       "      <td>Date:        Wed, 21 Aug 2002 10:54:46 -05...</td>\n",
       "      <td>0</td>\n",
       "    </tr>\n",
       "    <tr>\n",
       "      <th>1897</th>\n",
       "      <td>Martin A posted:\\nTassos Papadopoulos, the Gre...</td>\n",
       "      <td>0</td>\n",
       "    </tr>\n",
       "    <tr>\n",
       "      <th>1898</th>\n",
       "      <td>Man Threatens Explosion In Moscow Thursday Aug...</td>\n",
       "      <td>0</td>\n",
       "    </tr>\n",
       "    <tr>\n",
       "      <th>1899</th>\n",
       "      <td>Klez: The Virus That Won't Die\\n \\nAlready the...</td>\n",
       "      <td>0</td>\n",
       "    </tr>\n",
       "    <tr>\n",
       "      <th>1900</th>\n",
       "      <td>&gt;  in adding cream to spaghetti carbonara, whi...</td>\n",
       "      <td>0</td>\n",
       "    </tr>\n",
       "  </tbody>\n",
       "</table>\n",
       "</div>"
      ],
      "text/plain": [
       "                                                   Body  Label\n",
       "1896      Date:        Wed, 21 Aug 2002 10:54:46 -05...      0\n",
       "1897  Martin A posted:\\nTassos Papadopoulos, the Gre...      0\n",
       "1898  Man Threatens Explosion In Moscow Thursday Aug...      0\n",
       "1899  Klez: The Virus That Won't Die\\n \\nAlready the...      0\n",
       "1900  >  in adding cream to spaghetti carbonara, whi...      0"
      ]
     },
     "execution_count": 187,
     "metadata": {},
     "output_type": "execute_result"
    }
   ],
   "source": [
    "spam_assassin_dt.loc[spam_assassin_dt['Label'] == 0].head()"
   ]
  },
  {
   "cell_type": "markdown",
   "id": "691a75a0",
   "metadata": {},
   "source": [
    "A simple vista si se diría que entre las filas con spam contienen una mayor cantidad de caracteres especiales y tienen un cuerpo diferente a las que no son spam."
   ]
  },
  {
   "cell_type": "code",
   "execution_count": 188,
   "id": "cb336ae6",
   "metadata": {
    "scrolled": true
   },
   "outputs": [
    {
     "name": "stdout",
     "output_type": "stream",
     "text": [
      "Tamaño dataframe enron_spam_dt  10000\n",
      "Tamaño datafbrame spam_assassin_dt  6046\n",
      "tamaño nuevo DF  16046\n"
     ]
    }
   ],
   "source": [
    "df = enron_spam_dt.copy().append(spam_assassin_dt.copy())\n",
    "print(\"Tamaño dataframe enron_spam_dt \", len(enron_spam_dt))\n",
    "print(\"Tamaño datafbrame spam_assassin_dt \", len(spam_assassin_dt))\n",
    "print(\"tamaño nuevo DF \", len(df))\n",
    "df_safe = df.copy()\n",
    "df_hist = df.copy()"
   ]
  },
  {
   "cell_type": "code",
   "execution_count": 189,
   "id": "374b38c6",
   "metadata": {},
   "outputs": [
    {
     "data": {
      "text/plain": [
       "0        6210\n",
       "1         898\n",
       "2         779\n",
       "3         543\n",
       "4        1283\n",
       "        ...  \n",
       "6041        5\n",
       "6042    16999\n",
       "6043     7299\n",
       "6044        5\n",
       "6045        5\n",
       "Name: length, Length: 16046, dtype: int64"
      ]
     },
     "execution_count": 189,
     "metadata": {},
     "output_type": "execute_result"
    }
   ],
   "source": [
    "# Mostrar diferencia en lenghts\n",
    "df_hist[\"length\"] = df_hist[\"Body\"].apply(lambda x: len(str(x)))\n",
    "df_hist[\"length\"]"
   ]
  },
  {
   "cell_type": "code",
   "execution_count": 190,
   "id": "699cb5dc",
   "metadata": {},
   "outputs": [
    {
     "data": {
      "text/plain": [
       "array([<AxesSubplot:title={'center':'0'}>,\n",
       "       <AxesSubplot:title={'center':'1'}>], dtype=object)"
      ]
     },
     "execution_count": 190,
     "metadata": {},
     "output_type": "execute_result"
    },
    {
     "data": {
      "image/png": "[encoded data removed]",
      "text/plain": [
       "<Figure size 864x288 with 2 Axes>"
      ]
     },
     "metadata": {
      "needs_background": "light"
     },
     "output_type": "display_data"
    }
   ],
   "source": [
    "df_hist.hist(column = 'length', by ='Label',figsize=(12,4), bins = 100)"
   ]
  },
  {
   "cell_type": "markdown",
   "id": "30f620c9",
   "metadata": {},
   "source": [
    "# Preprocesamiento"
   ]
  },
  {
   "cell_type": "code",
   "execution_count": 191,
   "id": "4672d267",
   "metadata": {},
   "outputs": [
    {
     "data": {
      "text/plain": [
       "True"
      ]
     },
     "execution_count": 191,
     "metadata": {},
     "output_type": "execute_result"
    }
   ],
   "source": [
    "df['Body'].isnull().values.any()"
   ]
  },
  {
   "cell_type": "code",
   "execution_count": 192,
   "id": "0b664e05",
   "metadata": {},
   "outputs": [],
   "source": [
    "df = df[df['Body'].notna()]"
   ]
  },
  {
   "cell_type": "code",
   "execution_count": 193,
   "id": "14aa0156",
   "metadata": {},
   "outputs": [],
   "source": [
    "from string import punctuation\n",
    "import unicodedata\n",
    "import utils"
   ]
  },
  {
   "cell_type": "code",
   "execution_count": 194,
   "id": "0ccfd77d",
   "metadata": {},
   "outputs": [
    {
     "data": {
      "text/plain": [
       "5000    subject legislative report independent energy ...\n",
       "5001    subject video conference ross mcintyre nick ma...\n",
       "5002    subject intern compensation sally summer analy...\n",
       "5003    subject jeff mcmahon named cfo today announced...\n",
       "5004    subject frank yes vince frank hayden enron enr...\n",
       "5005    subject internship shane sorry vacation return...\n",
       "5006    subject enron actuals march april estimated ac...\n",
       "5007    subject chicago sally met jeff shankman hunter...\n",
       "5008    subject control echelon interesting website th...\n",
       "5009    subject eastrans nomination change effective p...\n",
       "5010    subject follow voice mail discussed rick staff...\n",
       "5011    subject flu shot flu shot continue available e...\n",
       "5012    subject tiger team wharton participant lied li...\n",
       "5013    subject organizational announcement pleased an...\n",
       "5014    subject model forwarded kpeterso epec kpeterso...\n",
       "5015    subject paso moved shoulder month september oc...\n",
       "5016    subject non disclosure agreement p box livermo...\n",
       "5017    subject updated electricity homepage great lin...\n",
       "5018    subject installation equipment ordered complet...\n",
       "5019    subject fw gas trading move november please ap...\n",
       "Name: Body, dtype: object"
      ]
     },
     "execution_count": 194,
     "metadata": {},
     "output_type": "execute_result"
    }
   ],
   "source": [
    "# 0 SPAM example preproccessed\n",
    "df.loc[df['Label'] == 0][\"Body\"].head(20).apply(utils.preprocess)"
   ]
  },
  {
   "cell_type": "code",
   "execution_count": 195,
   "id": "8cda0a58",
   "metadata": {},
   "outputs": [
    {
     "data": {
      "text/plain": [
       "0      subject stock promo mover cwtd urgent investor...\n",
       "1      subject listed major search engine submitting ...\n",
       "2      subject important information thu jun subject ...\n",
       "3      subject utf q bask life utf q individual incre...\n",
       "4      subject bidstogo place go thing hello privacy ...\n",
       "                             ...                        \n",
       "995    subject quick loan application hey would refln...\n",
       "996    subject entrust visual identity u thinking bre...\n",
       "997    subject specal offer wndows x p medium center ...\n",
       "998    subject graphic design logo website corporate ...\n",
       "999    subject impotence treatment hi new product off...\n",
       "Name: Body, Length: 1000, dtype: object"
      ]
     },
     "execution_count": 195,
     "metadata": {},
     "output_type": "execute_result"
    }
   ],
   "source": [
    "# 1 HAM example vectorized\n",
    "df.loc[df['Label'] == 1][\"Body\"].head(1000).apply(utils.preprocess)"
   ]
  },
  {
   "cell_type": "code",
   "execution_count": 211,
   "id": "ba176e04",
   "metadata": {},
   "outputs": [
    {
     "data": {
      "text/plain": [
       "16045"
      ]
     },
     "execution_count": 211,
     "metadata": {},
     "output_type": "execute_result"
    }
   ],
   "source": [
    "len(df)"
   ]
  },
  {
   "cell_type": "markdown",
   "id": "e9b4367f",
   "metadata": {},
   "source": [
    "## Modelo con BoW n = 1,2\n",
    "Utilizamos CountVectorizer para rango de n bags 1 y 2"
   ]
  },
  {
   "cell_type": "code",
   "execution_count": 216,
   "id": "f8cf6546",
   "metadata": {},
   "outputs": [
    {
     "data": {
      "text/plain": [
       "0       subject stock promo mover cwtd urgent investor...\n",
       "1       subject listed major search engine submitting ...\n",
       "2       subject important information thu jun subject ...\n",
       "3       subject utf q bask life utf q individual incre...\n",
       "4       subject bidstogo place go thing hello privacy ...\n",
       "                              ...                        \n",
       "6041                                                empty\n",
       "6042    oneten insignificant matter heavily overemphas...\n",
       "6043    issue reader write extension search dumb messa...\n",
       "6044                                                empty\n",
       "6045                                                empty\n",
       "Name: Body, Length: 16045, dtype: object"
      ]
     },
     "execution_count": 216,
     "metadata": {},
     "output_type": "execute_result"
    }
   ],
   "source": [
    "proccessed_body = df[\"Body\"].apply(utils.preprocess)\n",
    "\n",
    "proccessed_body"
   ]
  },
  {
   "cell_type": "code",
   "execution_count": 217,
   "id": "2525768e",
   "metadata": {},
   "outputs": [
    {
     "data": {
      "text/plain": [
       "16045"
      ]
     },
     "execution_count": 217,
     "metadata": {},
     "output_type": "execute_result"
    }
   ],
   "source": [
    "len(df)"
   ]
  },
  {
   "cell_type": "code",
   "execution_count": 218,
   "id": "ea540029",
   "metadata": {},
   "outputs": [],
   "source": [
    "# NBAG n = 1,2\n",
    "vectorization_1_1 = CountVectorizer(min_df=0.05, max_df=1., ngram_range=(1,2))\n",
    "vectorization_1_1_matrix = vectorization_1_1.fit_transform(proccessed_body)"
   ]
  },
  {
   "cell_type": "code",
   "execution_count": 219,
   "metadata": {},
   "outputs": [
    {
     "data": {
      "text/plain": [
       "array([[0, 0, 0, ..., 0, 0, 2],\n",
       "       [0, 0, 0, ..., 0, 0, 0],\n",
       "       [0, 0, 0, ..., 0, 1, 0],\n",
       "       ...,\n",
       "       [0, 0, 0, ..., 1, 0, 2],\n",
       "       [0, 0, 0, ..., 0, 0, 0],\n",
       "       [0, 0, 0, ..., 0, 0, 0]])"
      ]
     },
     "execution_count": 219,
     "metadata": {},
     "output_type": "execute_result"
    }
   ],
   "source": [
    "vectorization_1_1_matrix.toarray()"
   ]
  },
  {
   "cell_type": "code",
   "execution_count": 220,
   "id": "ce1df740",
   "metadata": {},
   "outputs": [
    {
     "name": "stderr",
     "output_type": "stream",
     "text": [
      "/Users/douglasdeleon/Documents/DouglasJr/UVG/semestre9/SecurityDS/lab-2-spam/spam-detect/venv/lib/python3.7/site-packages/sklearn/utils/deprecation.py:87: FutureWarning: Function get_feature_names is deprecated; get_feature_names is deprecated in 1.0 and will be removed in 1.2. Please use get_feature_names_out instead.\n",
      "  warnings.warn(msg, category=FutureWarning)\n"
     ]
    },
    {
     "data": {
      "text/html": [
       "<div>\n",
       "<style scoped>\n",
       "    .dataframe tbody tr th:only-of-type {\n",
       "        vertical-align: middle;\n",
       "    }\n",
       "\n",
       "    .dataframe tbody tr th {\n",
       "        vertical-align: top;\n",
       "    }\n",
       "\n",
       "    .dataframe thead th {\n",
       "        text-align: right;\n",
       "    }\n",
       "</style>\n",
       "<table border=\"1\" class=\"dataframe\">\n",
       "  <thead>\n",
       "    <tr style=\"text-align: right;\">\n",
       "      <th></th>\n",
       "      <th>able</th>\n",
       "      <th>access</th>\n",
       "      <th>account</th>\n",
       "      <th>address</th>\n",
       "      <th>already</th>\n",
       "      <th>also</th>\n",
       "      <th>another</th>\n",
       "      <th>around</th>\n",
       "      <th>attached</th>\n",
       "      <th>available</th>\n",
       "      <th>...</th>\n",
       "      <th>within</th>\n",
       "      <th>without</th>\n",
       "      <th>work</th>\n",
       "      <th>working</th>\n",
       "      <th>world</th>\n",
       "      <th>would</th>\n",
       "      <th>would like</th>\n",
       "      <th>wrote</th>\n",
       "      <th>www</th>\n",
       "      <th>year</th>\n",
       "    </tr>\n",
       "  </thead>\n",
       "  <tbody>\n",
       "    <tr>\n",
       "      <th>0</th>\n",
       "      <td>0</td>\n",
       "      <td>0</td>\n",
       "      <td>0</td>\n",
       "      <td>0</td>\n",
       "      <td>0</td>\n",
       "      <td>0</td>\n",
       "      <td>0</td>\n",
       "      <td>0</td>\n",
       "      <td>0</td>\n",
       "      <td>0</td>\n",
       "      <td>...</td>\n",
       "      <td>5</td>\n",
       "      <td>0</td>\n",
       "      <td>1</td>\n",
       "      <td>1</td>\n",
       "      <td>19</td>\n",
       "      <td>1</td>\n",
       "      <td>0</td>\n",
       "      <td>0</td>\n",
       "      <td>0</td>\n",
       "      <td>2</td>\n",
       "    </tr>\n",
       "    <tr>\n",
       "      <th>1</th>\n",
       "      <td>0</td>\n",
       "      <td>0</td>\n",
       "      <td>0</td>\n",
       "      <td>0</td>\n",
       "      <td>0</td>\n",
       "      <td>0</td>\n",
       "      <td>0</td>\n",
       "      <td>0</td>\n",
       "      <td>0</td>\n",
       "      <td>0</td>\n",
       "      <td>...</td>\n",
       "      <td>0</td>\n",
       "      <td>0</td>\n",
       "      <td>0</td>\n",
       "      <td>0</td>\n",
       "      <td>0</td>\n",
       "      <td>0</td>\n",
       "      <td>0</td>\n",
       "      <td>0</td>\n",
       "      <td>0</td>\n",
       "      <td>0</td>\n",
       "    </tr>\n",
       "    <tr>\n",
       "      <th>2</th>\n",
       "      <td>0</td>\n",
       "      <td>0</td>\n",
       "      <td>0</td>\n",
       "      <td>0</td>\n",
       "      <td>0</td>\n",
       "      <td>0</td>\n",
       "      <td>0</td>\n",
       "      <td>0</td>\n",
       "      <td>0</td>\n",
       "      <td>1</td>\n",
       "      <td>...</td>\n",
       "      <td>0</td>\n",
       "      <td>0</td>\n",
       "      <td>0</td>\n",
       "      <td>0</td>\n",
       "      <td>0</td>\n",
       "      <td>0</td>\n",
       "      <td>0</td>\n",
       "      <td>0</td>\n",
       "      <td>1</td>\n",
       "      <td>0</td>\n",
       "    </tr>\n",
       "    <tr>\n",
       "      <th>3</th>\n",
       "      <td>0</td>\n",
       "      <td>0</td>\n",
       "      <td>0</td>\n",
       "      <td>0</td>\n",
       "      <td>0</td>\n",
       "      <td>0</td>\n",
       "      <td>0</td>\n",
       "      <td>0</td>\n",
       "      <td>0</td>\n",
       "      <td>0</td>\n",
       "      <td>...</td>\n",
       "      <td>0</td>\n",
       "      <td>0</td>\n",
       "      <td>0</td>\n",
       "      <td>0</td>\n",
       "      <td>0</td>\n",
       "      <td>0</td>\n",
       "      <td>0</td>\n",
       "      <td>0</td>\n",
       "      <td>0</td>\n",
       "      <td>1</td>\n",
       "    </tr>\n",
       "    <tr>\n",
       "      <th>4</th>\n",
       "      <td>0</td>\n",
       "      <td>0</td>\n",
       "      <td>0</td>\n",
       "      <td>0</td>\n",
       "      <td>0</td>\n",
       "      <td>0</td>\n",
       "      <td>0</td>\n",
       "      <td>0</td>\n",
       "      <td>0</td>\n",
       "      <td>0</td>\n",
       "      <td>...</td>\n",
       "      <td>0</td>\n",
       "      <td>0</td>\n",
       "      <td>0</td>\n",
       "      <td>0</td>\n",
       "      <td>2</td>\n",
       "      <td>0</td>\n",
       "      <td>0</td>\n",
       "      <td>0</td>\n",
       "      <td>2</td>\n",
       "      <td>0</td>\n",
       "    </tr>\n",
       "    <tr>\n",
       "      <th>...</th>\n",
       "      <td>...</td>\n",
       "      <td>...</td>\n",
       "      <td>...</td>\n",
       "      <td>...</td>\n",
       "      <td>...</td>\n",
       "      <td>...</td>\n",
       "      <td>...</td>\n",
       "      <td>...</td>\n",
       "      <td>...</td>\n",
       "      <td>...</td>\n",
       "      <td>...</td>\n",
       "      <td>...</td>\n",
       "      <td>...</td>\n",
       "      <td>...</td>\n",
       "      <td>...</td>\n",
       "      <td>...</td>\n",
       "      <td>...</td>\n",
       "      <td>...</td>\n",
       "      <td>...</td>\n",
       "      <td>...</td>\n",
       "      <td>...</td>\n",
       "    </tr>\n",
       "    <tr>\n",
       "      <th>16040</th>\n",
       "      <td>0</td>\n",
       "      <td>0</td>\n",
       "      <td>0</td>\n",
       "      <td>0</td>\n",
       "      <td>0</td>\n",
       "      <td>0</td>\n",
       "      <td>0</td>\n",
       "      <td>0</td>\n",
       "      <td>0</td>\n",
       "      <td>0</td>\n",
       "      <td>...</td>\n",
       "      <td>0</td>\n",
       "      <td>0</td>\n",
       "      <td>0</td>\n",
       "      <td>0</td>\n",
       "      <td>0</td>\n",
       "      <td>0</td>\n",
       "      <td>0</td>\n",
       "      <td>0</td>\n",
       "      <td>0</td>\n",
       "      <td>0</td>\n",
       "    </tr>\n",
       "    <tr>\n",
       "      <th>16041</th>\n",
       "      <td>1</td>\n",
       "      <td>0</td>\n",
       "      <td>0</td>\n",
       "      <td>2</td>\n",
       "      <td>1</td>\n",
       "      <td>4</td>\n",
       "      <td>1</td>\n",
       "      <td>0</td>\n",
       "      <td>0</td>\n",
       "      <td>2</td>\n",
       "      <td>...</td>\n",
       "      <td>0</td>\n",
       "      <td>1</td>\n",
       "      <td>1</td>\n",
       "      <td>2</td>\n",
       "      <td>4</td>\n",
       "      <td>0</td>\n",
       "      <td>0</td>\n",
       "      <td>0</td>\n",
       "      <td>0</td>\n",
       "      <td>0</td>\n",
       "    </tr>\n",
       "    <tr>\n",
       "      <th>16042</th>\n",
       "      <td>0</td>\n",
       "      <td>0</td>\n",
       "      <td>0</td>\n",
       "      <td>1</td>\n",
       "      <td>0</td>\n",
       "      <td>1</td>\n",
       "      <td>5</td>\n",
       "      <td>0</td>\n",
       "      <td>0</td>\n",
       "      <td>0</td>\n",
       "      <td>...</td>\n",
       "      <td>0</td>\n",
       "      <td>6</td>\n",
       "      <td>0</td>\n",
       "      <td>0</td>\n",
       "      <td>0</td>\n",
       "      <td>2</td>\n",
       "      <td>0</td>\n",
       "      <td>1</td>\n",
       "      <td>0</td>\n",
       "      <td>2</td>\n",
       "    </tr>\n",
       "    <tr>\n",
       "      <th>16043</th>\n",
       "      <td>0</td>\n",
       "      <td>0</td>\n",
       "      <td>0</td>\n",
       "      <td>0</td>\n",
       "      <td>0</td>\n",
       "      <td>0</td>\n",
       "      <td>0</td>\n",
       "      <td>0</td>\n",
       "      <td>0</td>\n",
       "      <td>0</td>\n",
       "      <td>...</td>\n",
       "      <td>0</td>\n",
       "      <td>0</td>\n",
       "      <td>0</td>\n",
       "      <td>0</td>\n",
       "      <td>0</td>\n",
       "      <td>0</td>\n",
       "      <td>0</td>\n",
       "      <td>0</td>\n",
       "      <td>0</td>\n",
       "      <td>0</td>\n",
       "    </tr>\n",
       "    <tr>\n",
       "      <th>16044</th>\n",
       "      <td>0</td>\n",
       "      <td>0</td>\n",
       "      <td>0</td>\n",
       "      <td>0</td>\n",
       "      <td>0</td>\n",
       "      <td>0</td>\n",
       "      <td>0</td>\n",
       "      <td>0</td>\n",
       "      <td>0</td>\n",
       "      <td>0</td>\n",
       "      <td>...</td>\n",
       "      <td>0</td>\n",
       "      <td>0</td>\n",
       "      <td>0</td>\n",
       "      <td>0</td>\n",
       "      <td>0</td>\n",
       "      <td>0</td>\n",
       "      <td>0</td>\n",
       "      <td>0</td>\n",
       "      <td>0</td>\n",
       "      <td>0</td>\n",
       "    </tr>\n",
       "  </tbody>\n",
       "</table>\n",
       "<p>16045 rows × 240 columns</p>\n",
       "</div>"
      ],
      "text/plain": [
       "       able  access  account  address  already  also  another  around  \\\n",
       "0         0       0        0        0        0     0        0       0   \n",
       "1         0       0        0        0        0     0        0       0   \n",
       "2         0       0        0        0        0     0        0       0   \n",
       "3         0       0        0        0        0     0        0       0   \n",
       "4         0       0        0        0        0     0        0       0   \n",
       "...     ...     ...      ...      ...      ...   ...      ...     ...   \n",
       "16040     0       0        0        0        0     0        0       0   \n",
       "16041     1       0        0        2        1     4        1       0   \n",
       "16042     0       0        0        1        0     1        5       0   \n",
       "16043     0       0        0        0        0     0        0       0   \n",
       "16044     0       0        0        0        0     0        0       0   \n",
       "\n",
       "       attached  available  ...  within  without  work  working  world  would  \\\n",
       "0             0          0  ...       5        0     1        1     19      1   \n",
       "1             0          0  ...       0        0     0        0      0      0   \n",
       "2             0          1  ...       0        0     0        0      0      0   \n",
       "3             0          0  ...       0        0     0        0      0      0   \n",
       "4             0          0  ...       0        0     0        0      2      0   \n",
       "...         ...        ...  ...     ...      ...   ...      ...    ...    ...   \n",
       "16040         0          0  ...       0        0     0        0      0      0   \n",
       "16041         0          2  ...       0        1     1        2      4      0   \n",
       "16042         0          0  ...       0        6     0        0      0      2   \n",
       "16043         0          0  ...       0        0     0        0      0      0   \n",
       "16044         0          0  ...       0        0     0        0      0      0   \n",
       "\n",
       "       would like  wrote  www  year  \n",
       "0               0      0    0     2  \n",
       "1               0      0    0     0  \n",
       "2               0      0    1     0  \n",
       "3               0      0    0     1  \n",
       "4               0      0    2     0  \n",
       "...           ...    ...  ...   ...  \n",
       "16040           0      0    0     0  \n",
       "16041           0      0    0     0  \n",
       "16042           0      1    0     2  \n",
       "16043           0      0    0     0  \n",
       "16044           0      0    0     0  \n",
       "\n",
       "[16045 rows x 240 columns]"
      ]
     },
     "execution_count": 220,
     "metadata": {},
     "output_type": "execute_result"
    }
   ],
   "source": [
    "# Palabras únicas del corpus\n",
    "vocabulario_1_1 = vectorization_1_1.get_feature_names()\n",
    "# Mostrar el vector\n",
    "pd.DataFrame(vectorization_1_1_matrix.toarray(), columns=vocabulario_1_1)"
   ]
  },
  {
   "cell_type": "code",
   "execution_count": 221,
   "id": "7fe86fe9",
   "metadata": {},
   "outputs": [],
   "source": [
    "from sklearn.model_selection import train_test_split\n",
    "from sklearn.naive_bayes import GaussianNB, MultinomialNB\n",
    "X_train, X_test, y_train, y_test = train_test_split(vectorization_1_1_matrix.toarray(), df[\"Label\"], test_size=0.3, random_state=0)"
   ]
  },
  {
   "cell_type": "code",
   "execution_count": 222,
   "id": "7d61b175",
   "metadata": {},
   "outputs": [],
   "source": [
    "mnb = MultinomialNB()\n",
    "gnb = GaussianNB()\n",
    "mnb_y_pred = mnb.fit(X_train, y_train).predict(X_test) # MultinomialNB\n",
    "gnb_y_pred = gnb.fit(X_train, y_train).predict(X_test) # GaussianNB"
   ]
  },
  {
   "cell_type": "code",
   "execution_count": 223,
   "id": "edc8b527",
   "metadata": {
    "scrolled": true
   },
   "outputs": [
    {
     "name": "stdout",
     "output_type": "stream",
     "text": [
      "Matrix de confusión: \n",
      " [[1526 1262]\n",
      " [  65 1961]]\n",
      "              precision    recall  f1-score   support\n",
      "\n",
      "       legit       0.96      0.55      0.70      2788\n",
      "         dga       0.61      0.97      0.75      2026\n",
      "\n",
      "    accuracy                           0.72      4814\n",
      "   macro avg       0.78      0.76      0.72      4814\n",
      "weighted avg       0.81      0.72      0.72      4814\n",
      "\n",
      "recall_score:  [0.54734577 0.96791708]\n",
      "precision_score:  [0.95914519 0.60843934]\n",
      "f1_score:  [0.69696278 0.74718994]\n",
      "accuracy:  0.7243456584960531\n"
     ]
    }
   ],
   "source": [
    "# GaussianNB Results\n",
    "utils.model_results(y_test, gnb_y_pred)\n"
   ]
  },
  {
   "cell_type": "code",
   "execution_count": 224,
   "id": "761e058c",
   "metadata": {},
   "outputs": [
    {
     "name": "stdout",
     "output_type": "stream",
     "text": [
      "Matrix de confusión: \n",
      " [[2449  339]\n",
      " [ 302 1724]]\n",
      "              precision    recall  f1-score   support\n",
      "\n",
      "       legit       0.89      0.88      0.88      2788\n",
      "         dga       0.84      0.85      0.84      2026\n",
      "\n",
      "    accuracy                           0.87      4814\n",
      "   macro avg       0.86      0.86      0.86      4814\n",
      "weighted avg       0.87      0.87      0.87      4814\n",
      "\n",
      "recall_score:  [0.87840746 0.85093781]\n",
      "precision_score:  [0.89022174 0.8356762 ]\n",
      "f1_score:  [0.88427514 0.84323796]\n",
      "accuracy:  0.866846697133361\n"
     ]
    }
   ],
   "source": [
    "# MultinomialNB Results\n",
    "utils.model_results(y_test, mnb_y_pred)"
   ]
  },
  {
   "cell_type": "markdown",
   "id": "d689b5b8",
   "metadata": {},
   "source": [
    "## Modelo con TF-IDF"
   ]
  },
  {
   "cell_type": "code",
   "execution_count": 225,
   "id": "b6eff85f",
   "metadata": {},
   "outputs": [
    {
     "name": "stderr",
     "output_type": "stream",
     "text": [
      "/Users/douglasdeleon/Documents/DouglasJr/UVG/semestre9/SecurityDS/lab-2-spam/spam-detect/venv/lib/python3.7/site-packages/sklearn/utils/deprecation.py:87: FutureWarning: Function get_feature_names is deprecated; get_feature_names is deprecated in 1.0 and will be removed in 1.2. Please use get_feature_names_out instead.\n",
      "  warnings.warn(msg, category=FutureWarning)\n"
     ]
    },
    {
     "data": {
      "text/html": [
       "<div>\n",
       "<style scoped>\n",
       "    .dataframe tbody tr th:only-of-type {\n",
       "        vertical-align: middle;\n",
       "    }\n",
       "\n",
       "    .dataframe tbody tr th {\n",
       "        vertical-align: top;\n",
       "    }\n",
       "\n",
       "    .dataframe thead th {\n",
       "        text-align: right;\n",
       "    }\n",
       "</style>\n",
       "<table border=\"1\" class=\"dataframe\">\n",
       "  <thead>\n",
       "    <tr style=\"text-align: right;\">\n",
       "      <th></th>\n",
       "      <th>able</th>\n",
       "      <th>access</th>\n",
       "      <th>account</th>\n",
       "      <th>address</th>\n",
       "      <th>already</th>\n",
       "      <th>also</th>\n",
       "      <th>another</th>\n",
       "      <th>around</th>\n",
       "      <th>attached</th>\n",
       "      <th>available</th>\n",
       "      <th>...</th>\n",
       "      <th>wish</th>\n",
       "      <th>within</th>\n",
       "      <th>without</th>\n",
       "      <th>work</th>\n",
       "      <th>working</th>\n",
       "      <th>world</th>\n",
       "      <th>would</th>\n",
       "      <th>wrote</th>\n",
       "      <th>www</th>\n",
       "      <th>year</th>\n",
       "    </tr>\n",
       "  </thead>\n",
       "  <tbody>\n",
       "    <tr>\n",
       "      <th>0</th>\n",
       "      <td>0.00</td>\n",
       "      <td>0.0</td>\n",
       "      <td>0.0</td>\n",
       "      <td>0.00</td>\n",
       "      <td>0.00</td>\n",
       "      <td>0.00</td>\n",
       "      <td>0.00</td>\n",
       "      <td>0.0</td>\n",
       "      <td>0.0</td>\n",
       "      <td>0.00</td>\n",
       "      <td>...</td>\n",
       "      <td>0.00</td>\n",
       "      <td>0.18</td>\n",
       "      <td>0.00</td>\n",
       "      <td>0.03</td>\n",
       "      <td>0.04</td>\n",
       "      <td>0.68</td>\n",
       "      <td>0.03</td>\n",
       "      <td>0.00</td>\n",
       "      <td>0.00</td>\n",
       "      <td>0.06</td>\n",
       "    </tr>\n",
       "    <tr>\n",
       "      <th>1</th>\n",
       "      <td>0.00</td>\n",
       "      <td>0.0</td>\n",
       "      <td>0.0</td>\n",
       "      <td>0.00</td>\n",
       "      <td>0.00</td>\n",
       "      <td>0.00</td>\n",
       "      <td>0.00</td>\n",
       "      <td>0.0</td>\n",
       "      <td>0.0</td>\n",
       "      <td>0.00</td>\n",
       "      <td>...</td>\n",
       "      <td>0.00</td>\n",
       "      <td>0.00</td>\n",
       "      <td>0.00</td>\n",
       "      <td>0.00</td>\n",
       "      <td>0.00</td>\n",
       "      <td>0.00</td>\n",
       "      <td>0.00</td>\n",
       "      <td>0.00</td>\n",
       "      <td>0.00</td>\n",
       "      <td>0.00</td>\n",
       "    </tr>\n",
       "    <tr>\n",
       "      <th>2</th>\n",
       "      <td>0.00</td>\n",
       "      <td>0.0</td>\n",
       "      <td>0.0</td>\n",
       "      <td>0.00</td>\n",
       "      <td>0.00</td>\n",
       "      <td>0.00</td>\n",
       "      <td>0.00</td>\n",
       "      <td>0.0</td>\n",
       "      <td>0.0</td>\n",
       "      <td>0.17</td>\n",
       "      <td>...</td>\n",
       "      <td>0.19</td>\n",
       "      <td>0.00</td>\n",
       "      <td>0.00</td>\n",
       "      <td>0.00</td>\n",
       "      <td>0.00</td>\n",
       "      <td>0.00</td>\n",
       "      <td>0.00</td>\n",
       "      <td>0.00</td>\n",
       "      <td>0.18</td>\n",
       "      <td>0.00</td>\n",
       "    </tr>\n",
       "    <tr>\n",
       "      <th>3</th>\n",
       "      <td>0.00</td>\n",
       "      <td>0.0</td>\n",
       "      <td>0.0</td>\n",
       "      <td>0.00</td>\n",
       "      <td>0.00</td>\n",
       "      <td>0.00</td>\n",
       "      <td>0.00</td>\n",
       "      <td>0.0</td>\n",
       "      <td>0.0</td>\n",
       "      <td>0.00</td>\n",
       "      <td>...</td>\n",
       "      <td>0.00</td>\n",
       "      <td>0.00</td>\n",
       "      <td>0.00</td>\n",
       "      <td>0.00</td>\n",
       "      <td>0.00</td>\n",
       "      <td>0.00</td>\n",
       "      <td>0.00</td>\n",
       "      <td>0.00</td>\n",
       "      <td>0.00</td>\n",
       "      <td>0.39</td>\n",
       "    </tr>\n",
       "    <tr>\n",
       "      <th>4</th>\n",
       "      <td>0.00</td>\n",
       "      <td>0.0</td>\n",
       "      <td>0.0</td>\n",
       "      <td>0.00</td>\n",
       "      <td>0.00</td>\n",
       "      <td>0.00</td>\n",
       "      <td>0.00</td>\n",
       "      <td>0.0</td>\n",
       "      <td>0.0</td>\n",
       "      <td>0.00</td>\n",
       "      <td>...</td>\n",
       "      <td>0.00</td>\n",
       "      <td>0.00</td>\n",
       "      <td>0.00</td>\n",
       "      <td>0.00</td>\n",
       "      <td>0.00</td>\n",
       "      <td>0.26</td>\n",
       "      <td>0.00</td>\n",
       "      <td>0.00</td>\n",
       "      <td>0.27</td>\n",
       "      <td>0.00</td>\n",
       "    </tr>\n",
       "    <tr>\n",
       "      <th>...</th>\n",
       "      <td>...</td>\n",
       "      <td>...</td>\n",
       "      <td>...</td>\n",
       "      <td>...</td>\n",
       "      <td>...</td>\n",
       "      <td>...</td>\n",
       "      <td>...</td>\n",
       "      <td>...</td>\n",
       "      <td>...</td>\n",
       "      <td>...</td>\n",
       "      <td>...</td>\n",
       "      <td>...</td>\n",
       "      <td>...</td>\n",
       "      <td>...</td>\n",
       "      <td>...</td>\n",
       "      <td>...</td>\n",
       "      <td>...</td>\n",
       "      <td>...</td>\n",
       "      <td>...</td>\n",
       "      <td>...</td>\n",
       "      <td>...</td>\n",
       "    </tr>\n",
       "    <tr>\n",
       "      <th>16040</th>\n",
       "      <td>0.00</td>\n",
       "      <td>0.0</td>\n",
       "      <td>0.0</td>\n",
       "      <td>0.00</td>\n",
       "      <td>0.00</td>\n",
       "      <td>0.00</td>\n",
       "      <td>0.00</td>\n",
       "      <td>0.0</td>\n",
       "      <td>0.0</td>\n",
       "      <td>0.00</td>\n",
       "      <td>...</td>\n",
       "      <td>0.00</td>\n",
       "      <td>0.00</td>\n",
       "      <td>0.00</td>\n",
       "      <td>0.00</td>\n",
       "      <td>0.00</td>\n",
       "      <td>0.00</td>\n",
       "      <td>0.00</td>\n",
       "      <td>0.00</td>\n",
       "      <td>0.00</td>\n",
       "      <td>0.00</td>\n",
       "    </tr>\n",
       "    <tr>\n",
       "      <th>16041</th>\n",
       "      <td>0.04</td>\n",
       "      <td>0.0</td>\n",
       "      <td>0.0</td>\n",
       "      <td>0.07</td>\n",
       "      <td>0.04</td>\n",
       "      <td>0.12</td>\n",
       "      <td>0.04</td>\n",
       "      <td>0.0</td>\n",
       "      <td>0.0</td>\n",
       "      <td>0.07</td>\n",
       "      <td>...</td>\n",
       "      <td>0.00</td>\n",
       "      <td>0.00</td>\n",
       "      <td>0.04</td>\n",
       "      <td>0.03</td>\n",
       "      <td>0.08</td>\n",
       "      <td>0.14</td>\n",
       "      <td>0.00</td>\n",
       "      <td>0.00</td>\n",
       "      <td>0.00</td>\n",
       "      <td>0.00</td>\n",
       "    </tr>\n",
       "    <tr>\n",
       "      <th>16042</th>\n",
       "      <td>0.00</td>\n",
       "      <td>0.0</td>\n",
       "      <td>0.0</td>\n",
       "      <td>0.04</td>\n",
       "      <td>0.00</td>\n",
       "      <td>0.04</td>\n",
       "      <td>0.26</td>\n",
       "      <td>0.0</td>\n",
       "      <td>0.0</td>\n",
       "      <td>0.00</td>\n",
       "      <td>...</td>\n",
       "      <td>0.00</td>\n",
       "      <td>0.00</td>\n",
       "      <td>0.29</td>\n",
       "      <td>0.00</td>\n",
       "      <td>0.00</td>\n",
       "      <td>0.00</td>\n",
       "      <td>0.07</td>\n",
       "      <td>0.05</td>\n",
       "      <td>0.00</td>\n",
       "      <td>0.08</td>\n",
       "    </tr>\n",
       "    <tr>\n",
       "      <th>16043</th>\n",
       "      <td>0.00</td>\n",
       "      <td>0.0</td>\n",
       "      <td>0.0</td>\n",
       "      <td>0.00</td>\n",
       "      <td>0.00</td>\n",
       "      <td>0.00</td>\n",
       "      <td>0.00</td>\n",
       "      <td>0.0</td>\n",
       "      <td>0.0</td>\n",
       "      <td>0.00</td>\n",
       "      <td>...</td>\n",
       "      <td>0.00</td>\n",
       "      <td>0.00</td>\n",
       "      <td>0.00</td>\n",
       "      <td>0.00</td>\n",
       "      <td>0.00</td>\n",
       "      <td>0.00</td>\n",
       "      <td>0.00</td>\n",
       "      <td>0.00</td>\n",
       "      <td>0.00</td>\n",
       "      <td>0.00</td>\n",
       "    </tr>\n",
       "    <tr>\n",
       "      <th>16044</th>\n",
       "      <td>0.00</td>\n",
       "      <td>0.0</td>\n",
       "      <td>0.0</td>\n",
       "      <td>0.00</td>\n",
       "      <td>0.00</td>\n",
       "      <td>0.00</td>\n",
       "      <td>0.00</td>\n",
       "      <td>0.0</td>\n",
       "      <td>0.0</td>\n",
       "      <td>0.00</td>\n",
       "      <td>...</td>\n",
       "      <td>0.00</td>\n",
       "      <td>0.00</td>\n",
       "      <td>0.00</td>\n",
       "      <td>0.00</td>\n",
       "      <td>0.00</td>\n",
       "      <td>0.00</td>\n",
       "      <td>0.00</td>\n",
       "      <td>0.00</td>\n",
       "      <td>0.00</td>\n",
       "      <td>0.00</td>\n",
       "    </tr>\n",
       "  </tbody>\n",
       "</table>\n",
       "<p>16045 rows × 232 columns</p>\n",
       "</div>"
      ],
      "text/plain": [
       "       able  access  account  address  already  also  another  around  \\\n",
       "0      0.00     0.0      0.0     0.00     0.00  0.00     0.00     0.0   \n",
       "1      0.00     0.0      0.0     0.00     0.00  0.00     0.00     0.0   \n",
       "2      0.00     0.0      0.0     0.00     0.00  0.00     0.00     0.0   \n",
       "3      0.00     0.0      0.0     0.00     0.00  0.00     0.00     0.0   \n",
       "4      0.00     0.0      0.0     0.00     0.00  0.00     0.00     0.0   \n",
       "...     ...     ...      ...      ...      ...   ...      ...     ...   \n",
       "16040  0.00     0.0      0.0     0.00     0.00  0.00     0.00     0.0   \n",
       "16041  0.04     0.0      0.0     0.07     0.04  0.12     0.04     0.0   \n",
       "16042  0.00     0.0      0.0     0.04     0.00  0.04     0.26     0.0   \n",
       "16043  0.00     0.0      0.0     0.00     0.00  0.00     0.00     0.0   \n",
       "16044  0.00     0.0      0.0     0.00     0.00  0.00     0.00     0.0   \n",
       "\n",
       "       attached  available  ...  wish  within  without  work  working  world  \\\n",
       "0           0.0       0.00  ...  0.00    0.18     0.00  0.03     0.04   0.68   \n",
       "1           0.0       0.00  ...  0.00    0.00     0.00  0.00     0.00   0.00   \n",
       "2           0.0       0.17  ...  0.19    0.00     0.00  0.00     0.00   0.00   \n",
       "3           0.0       0.00  ...  0.00    0.00     0.00  0.00     0.00   0.00   \n",
       "4           0.0       0.00  ...  0.00    0.00     0.00  0.00     0.00   0.26   \n",
       "...         ...        ...  ...   ...     ...      ...   ...      ...    ...   \n",
       "16040       0.0       0.00  ...  0.00    0.00     0.00  0.00     0.00   0.00   \n",
       "16041       0.0       0.07  ...  0.00    0.00     0.04  0.03     0.08   0.14   \n",
       "16042       0.0       0.00  ...  0.00    0.00     0.29  0.00     0.00   0.00   \n",
       "16043       0.0       0.00  ...  0.00    0.00     0.00  0.00     0.00   0.00   \n",
       "16044       0.0       0.00  ...  0.00    0.00     0.00  0.00     0.00   0.00   \n",
       "\n",
       "       would  wrote   www  year  \n",
       "0       0.03   0.00  0.00  0.06  \n",
       "1       0.00   0.00  0.00  0.00  \n",
       "2       0.00   0.00  0.18  0.00  \n",
       "3       0.00   0.00  0.00  0.39  \n",
       "4       0.00   0.00  0.27  0.00  \n",
       "...      ...    ...   ...   ...  \n",
       "16040   0.00   0.00  0.00  0.00  \n",
       "16041   0.00   0.00  0.00  0.00  \n",
       "16042   0.07   0.05  0.00  0.08  \n",
       "16043   0.00   0.00  0.00  0.00  \n",
       "16044   0.00   0.00  0.00  0.00  \n",
       "\n",
       "[16045 rows x 232 columns]"
      ]
     },
     "execution_count": 225,
     "metadata": {},
     "output_type": "execute_result"
    }
   ],
   "source": [
    "from sklearn.feature_extraction.text import TfidfVectorizer\n",
    "\n",
    "tv = TfidfVectorizer(min_df=0.05, max_df=1., use_idf=True)\n",
    "tv_matrix = tv.fit_transform(proccessed_body)\n",
    "tv_matrix = tv_matrix.toarray()\n",
    "\n",
    "vocabulario = tv.get_feature_names()\n",
    "pd.DataFrame(np.round(tv_matrix, 2), columns=vocabulario)\n"
   ]
  },
  {
   "cell_type": "code",
   "execution_count": 226,
   "id": "90251811",
   "metadata": {},
   "outputs": [],
   "source": [
    "X_train, X_test, y_train, y_test = train_test_split(tv_matrix, df[\"Label\"], test_size=0.3, random_state=0)"
   ]
  },
  {
   "cell_type": "code",
   "execution_count": 227,
   "id": "4bcea0ba",
   "metadata": {},
   "outputs": [],
   "source": [
    "mnb = MultinomialNB()\n",
    "gnb = GaussianNB()\n",
    "mnb_y_pred = mnb.fit(X_train, y_train).predict(X_test) # MultinomialNB\n",
    "gnb_y_pred = gnb.fit(X_train, y_train).predict(X_test) # GaussianNB"
   ]
  },
  {
   "cell_type": "code",
   "execution_count": 228,
   "id": "6d434b8d",
   "metadata": {},
   "outputs": [
    {
     "name": "stdout",
     "output_type": "stream",
     "text": [
      "Matrix de confusión: \n",
      " [[2437  351]\n",
      " [ 179 1847]]\n",
      "              precision    recall  f1-score   support\n",
      "\n",
      "       legit       0.93      0.87      0.90      2788\n",
      "         dga       0.84      0.91      0.87      2026\n",
      "\n",
      "    accuracy                           0.89      4814\n",
      "   macro avg       0.89      0.89      0.89      4814\n",
      "weighted avg       0.89      0.89      0.89      4814\n",
      "\n",
      "recall_score:  [0.8741033  0.91164857]\n",
      "precision_score:  [0.93157492 0.84030937]\n",
      "f1_score:  [0.9019245  0.87452652]\n",
      "accuracy:  0.8899044453676777\n"
     ]
    }
   ],
   "source": [
    "# GaussianNB results\n",
    "utils.model_results(y_test, gnb_y_pred)"
   ]
  },
  {
   "cell_type": "code",
   "execution_count": 229,
   "id": "9145b9c7",
   "metadata": {},
   "outputs": [
    {
     "name": "stdout",
     "output_type": "stream",
     "text": [
      "Matrix de confusión: \n",
      " [[2607  181]\n",
      " [ 341 1685]]\n",
      "              precision    recall  f1-score   support\n",
      "\n",
      "       legit       0.88      0.94      0.91      2788\n",
      "         dga       0.90      0.83      0.87      2026\n",
      "\n",
      "    accuracy                           0.89      4814\n",
      "   macro avg       0.89      0.88      0.89      4814\n",
      "weighted avg       0.89      0.89      0.89      4814\n",
      "\n",
      "recall_score:  [0.93507891 0.83168806]\n",
      "precision_score:  [0.88432836 0.90300107]\n",
      "f1_score:  [0.90899582 0.86587873]\n",
      "accuracy:  0.891566265060241\n"
     ]
    }
   ],
   "source": [
    "# MultinomialNB results\n",
    "utils.model_results(y_test, mnb_y_pred)"
   ]
  },
  {
   "cell_type": "markdown",
   "id": "3c007eb5",
   "metadata": {},
   "source": [
    "# Conclusión"
   ]
  },
  {
   "cell_type": "markdown",
   "id": "2d5c3ddf",
   "metadata": {},
   "source": [
    "La representación numérica con mejores resultados fue TF-IDF con un accuracy igual a 0.891 con un modelo Naive Bayes Multinomial, en comparación a BoW que obtuvo un accuracy igual a 0.967. Cabe resaltar que en ambos tipos de representación se obtuvo un mejor resultado con un modelo Naive Bayes Multinomial en comparación a Naive Bayes Gaussiano. Esto se vió reflejado con mayor fuerza en el modelo con la representación de BoW."
   ]
  },
  {
   "cell_type": "markdown",
   "id": "58a79a80",
   "metadata": {},
   "source": []
  }
 ],
 "metadata": {
  "kernelspec": {
   "display_name": "Python 3 (ipykernel)",
   "language": "python",
   "name": "python3"
  },
  "language_info": {
   "codemirror_mode": {
    "name": "ipython",
    "version": 3
   },
   "file_extension": ".py",
   "mimetype": "text/x-python",
   "name": "python",
   "nbconvert_exporter": "python",
   "pygments_lexer": "ipython3",
   "version": "3.7.12"
  }
 },
 "nbformat": 4,
 "nbformat_minor": 5
}
