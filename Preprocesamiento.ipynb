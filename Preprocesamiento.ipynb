{
 "cells": [
  {
   "cell_type": "markdown",
   "id": "bc2ff184",
   "metadata": {},
   "source": [
    "Conversion de mayusculas o minusculas"
   ]
  },
  {
   "cell_type": "code",
   "execution_count": 28,
   "id": "fe9f3b10",
   "metadata": {
    "scrolled": true
   },
   "outputs": [
    {
     "name": "stderr",
     "output_type": "stream",
     "text": [
      "[nltk_data] Downloading package punkt to\n",
      "[nltk_data]     /Users/augustoalonso/nltk_data...\n",
      "[nltk_data]   Package punkt is already up-to-date!\n",
      "[nltk_data] Downloading package wordnet to\n",
      "[nltk_data]     /Users/augustoalonso/nltk_data...\n",
      "[nltk_data]   Package wordnet is already up-to-date!\n",
      "[nltk_data] Downloading package stopwords to\n",
      "[nltk_data]     /Users/augustoalonso/nltk_data...\n",
      "[nltk_data]   Package stopwords is already up-to-date!\n",
      "[nltk_data] Downloading package averaged_perceptron_tagger to\n",
      "[nltk_data]     /Users/augustoalonso/nltk_data...\n",
      "[nltk_data]   Package averaged_perceptron_tagger is already up-to-\n",
      "[nltk_data]       date!\n",
      "[nltk_data] Downloading package omw-1.4 to\n",
      "[nltk_data]     /Users/augustoalonso/nltk_data...\n",
      "[nltk_data]   Unzipping corpora/omw-1.4.zip.\n"
     ]
    },
    {
     "data": {
      "text/plain": [
       "True"
      ]
     },
     "execution_count": 28,
     "metadata": {},
     "output_type": "execute_result"
    }
   ],
   "source": [
    "import nltk\n",
    "nltk.download('punkt')\n",
    "nltk.download('wordnet')\n",
    "nltk.download('stopwords')\n",
    "nltk.download('averaged_perceptron_tagger')\n",
    "nltk.download('omw-1.4')"
   ]
  },
  {
   "cell_type": "code",
   "execution_count": 2,
   "id": "fc4acf54",
   "metadata": {},
   "outputs": [
    {
     "data": {
      "text/plain": [
       "'ESTE es UN ejemplo DE mayusculas Y minusculas'"
      ]
     },
     "execution_count": 2,
     "metadata": {},
     "output_type": "execute_result"
    }
   ],
   "source": [
    "oracion = 'ESTE es UN ejemplo DE mayusculas Y minusculas'\n",
    "oracion"
   ]
  },
  {
   "cell_type": "code",
   "execution_count": 3,
   "id": "042c5ce1",
   "metadata": {},
   "outputs": [
    {
     "data": {
      "text/plain": [
       "'este es un ejemplo de mayusculas y minusculas'"
      ]
     },
     "execution_count": 3,
     "metadata": {},
     "output_type": "execute_result"
    }
   ],
   "source": [
    "oracion.lower()"
   ]
  },
  {
   "cell_type": "code",
   "execution_count": 4,
   "id": "cc289905",
   "metadata": {},
   "outputs": [
    {
     "data": {
      "text/plain": [
       "'ESTE ES UN EJEMPLO DE MAYUSCULAS Y MINUSCULAS'"
      ]
     },
     "execution_count": 4,
     "metadata": {},
     "output_type": "execute_result"
    }
   ],
   "source": [
    "oracion.upper()"
   ]
  },
  {
   "cell_type": "code",
   "execution_count": 5,
   "id": "aaddba01",
   "metadata": {},
   "outputs": [
    {
     "data": {
      "text/plain": [
       "'Este Es Un Ejemplo De Mayusculas Y Minusculas'"
      ]
     },
     "execution_count": 5,
     "metadata": {},
     "output_type": "execute_result"
    }
   ],
   "source": [
    "oracion.title()"
   ]
  },
  {
   "cell_type": "markdown",
   "id": "c72901cc",
   "metadata": {},
   "source": [
    "Tokens"
   ]
  },
  {
   "cell_type": "code",
   "execution_count": 6,
   "id": "429024e4",
   "metadata": {},
   "outputs": [
    {
     "name": "stdout",
     "output_type": "stream",
     "text": [
      "['ESTE', 'es', 'UN', 'ejemplo', 'DE', 'mayusculas', 'Y', 'minusculas']\n"
     ]
    }
   ],
   "source": [
    "print(nltk.word_tokenize(oracion))"
   ]
  },
  {
   "cell_type": "code",
   "execution_count": 7,
   "id": "dcffc8d6",
   "metadata": {},
   "outputs": [],
   "source": [
    "import unicodedata\n",
    "\n",
    "def removerAcentos(texto):\n",
    "    texto = unicodedata.normalize('NFKD', texto).encode('ascii','ignore').decode('utf-8','ignore')\n",
    "    return texto"
   ]
  },
  {
   "cell_type": "code",
   "execution_count": 8,
   "id": "96fb4cb8",
   "metadata": {},
   "outputs": [
    {
     "data": {
      "text/plain": [
       "'Esté es Un ÉJÉmpLó de data acetÚADá'"
      ]
     },
     "execution_count": 8,
     "metadata": {},
     "output_type": "execute_result"
    }
   ],
   "source": [
    "oracion = 'Esté es Un ÉJÉmpLó de data acetÚADá'\n",
    "oracion"
   ]
  },
  {
   "cell_type": "code",
   "execution_count": 9,
   "id": "088363b5",
   "metadata": {},
   "outputs": [
    {
     "data": {
      "text/plain": [
       "'este es un ejemplo de data acetuada'"
      ]
     },
     "execution_count": 9,
     "metadata": {},
     "output_type": "execute_result"
    }
   ],
   "source": [
    "removerAcentos(oracion.lower())"
   ]
  },
  {
   "cell_type": "markdown",
   "id": "646766a9",
   "metadata": {},
   "source": [
    "Remover caracteres especiales, numeros y simbolos"
   ]
  },
  {
   "cell_type": "code",
   "execution_count": 10,
   "id": "7d133fd1",
   "metadata": {},
   "outputs": [
    {
     "data": {
      "text/plain": [
       "'Hoy es el partido de futbol a las 745 '"
      ]
     },
     "execution_count": 10,
     "metadata": {},
     "output_type": "execute_result"
    }
   ],
   "source": [
    "import re\n",
    "def removerCaracteresEspecialesNumerosSimbolos(texto, removerDigitos =False):\n",
    "    patron = r'[^a-zA-Z0-9\\s]' if not removerDigitos else r'[^a-zA-Z\\s]'\n",
    "    texto = re.sub(patron,'', texto)\n",
    "    return texto\n",
    "oracion = 'Hoy es el partido de fútbol a las 7:45 @$%&'\n",
    "removerCaracteresEspecialesNumerosSimbolos(removerAcentos(oracion))\n"
   ]
  },
  {
   "cell_type": "code",
   "execution_count": 11,
   "id": "089eec51",
   "metadata": {},
   "outputs": [
    {
     "data": {
      "text/plain": [
       "'Hoy es el partido de futbol a las  '"
      ]
     },
     "execution_count": 11,
     "metadata": {},
     "output_type": "execute_result"
    }
   ],
   "source": [
    "removerCaracteresEspecialesNumerosSimbolos(removerAcentos(oracion), True)"
   ]
  },
  {
   "cell_type": "markdown",
   "id": "99d39b53",
   "metadata": {},
   "source": [
    "Expansión de contracciones"
   ]
  },
  {
   "cell_type": "code",
   "execution_count": 12,
   "id": "387d6233",
   "metadata": {},
   "outputs": [
    {
     "name": "stdout",
     "output_type": "stream",
     "text": [
      "zsh:1: command not found: pip\n",
      "zsh:1: command not found: pip\n"
     ]
    }
   ],
   "source": [
    "!pip install contractions\n",
    "!pip install textsearch"
   ]
  },
  {
   "cell_type": "code",
   "execution_count": 13,
   "id": "00f40da6",
   "metadata": {},
   "outputs": [
    {
     "data": {
      "text/plain": [
       "\"Y'all can't expand contractions I'd think! You wouldn't be able to. How'd you do it?\""
      ]
     },
     "execution_count": 13,
     "metadata": {},
     "output_type": "execute_result"
    }
   ],
   "source": [
    "texto = \"Y'all can't expand contractions I'd think! You wouldn't be able to. How'd you do it?\"\n",
    "texto"
   ]
  },
  {
   "cell_type": "code",
   "execution_count": 15,
   "id": "f1286a7c",
   "metadata": {},
   "outputs": [
    {
     "data": {
      "text/plain": [
       "[(\"I'm\", 'I am'),\n",
       " (\"I'm'a\", 'I am about to'),\n",
       " (\"I'm'o\", 'I am going to'),\n",
       " (\"I've\", 'I have'),\n",
       " (\"I'll\", 'I will'),\n",
       " (\"I'll've\", 'I will have'),\n",
       " (\"I'd\", 'I would'),\n",
       " (\"I'd've\", 'I would have'),\n",
       " ('Whatcha', 'What are you'),\n",
       " (\"amn't\", 'am not')]"
      ]
     },
     "execution_count": 15,
     "metadata": {},
     "output_type": "execute_result"
    }
   ],
   "source": [
    "import contractions\n",
    "list(contractions.contractions_dict.items())[:10]"
   ]
  },
  {
   "cell_type": "code",
   "execution_count": 16,
   "id": "3b92ccfc",
   "metadata": {},
   "outputs": [
    {
     "data": {
      "text/plain": [
       "'You all cannot expand contractions I would think! You would not be able to. How did you do it?'"
      ]
     },
     "execution_count": 16,
     "metadata": {},
     "output_type": "execute_result"
    }
   ],
   "source": [
    "contractions.fix(texto)"
   ]
  },
  {
   "cell_type": "markdown",
   "id": "2507f326",
   "metadata": {},
   "source": [
    "Stop Words"
   ]
  },
  {
   "cell_type": "code",
   "execution_count": 17,
   "id": "5c0c8270",
   "metadata": {},
   "outputs": [
    {
     "name": "stderr",
     "output_type": "stream",
     "text": [
      "[nltk_data] Downloading package stopwords to\n",
      "[nltk_data]     /Users/augustoalonso/nltk_data...\n",
      "[nltk_data]   Package stopwords is already up-to-date!\n"
     ]
    },
    {
     "data": {
      "text/plain": [
       "True"
      ]
     },
     "execution_count": 17,
     "metadata": {},
     "output_type": "execute_result"
    }
   ],
   "source": [
    "oracion = 'ESTE es UN ejemplo DE mayusculas Y minusculas'\n",
    "import nltk\n",
    "nltk.download('stopwords')"
   ]
  },
  {
   "cell_type": "code",
   "execution_count": 18,
   "id": "00a95eb8",
   "metadata": {},
   "outputs": [
    {
     "data": {
      "text/plain": [
       "['ESTE', 'es', 'UN', 'ejemplo', 'DE', 'mayusculas', 'Y', 'minusculas']"
      ]
     },
     "execution_count": 18,
     "metadata": {},
     "output_type": "execute_result"
    }
   ],
   "source": [
    "tokens = nltk.word_tokenize(oracion)\n",
    "tokens"
   ]
  },
  {
   "cell_type": "code",
   "execution_count": 19,
   "id": "f579b1c3",
   "metadata": {},
   "outputs": [
    {
     "data": {
      "text/plain": [
       "['ESTE', 'UN', 'ejemplo', 'DE', 'mayusculas', 'Y', 'minusculas']"
      ]
     },
     "execution_count": 19,
     "metadata": {},
     "output_type": "execute_result"
    }
   ],
   "source": [
    "stop_words_spanish = nltk.corpus.stopwords.words('spanish')\n",
    "tokens_filtrados = [token for token in tokens if token not in stop_words_spanish]\n",
    "tokens_filtrados"
   ]
  },
  {
   "cell_type": "code",
   "execution_count": 20,
   "id": "9071c671",
   "metadata": {},
   "outputs": [],
   "source": [
    "stop_words_english = nltk.corpus.stopwords.words('english')"
   ]
  },
  {
   "cell_type": "code",
   "execution_count": 21,
   "id": "bb5c57b6",
   "metadata": {},
   "outputs": [
    {
     "data": {
      "text/plain": [
       "\"Y'all can't expand contractions I'd think! You wouldn't be able to. How'd you do it?\""
      ]
     },
     "execution_count": 21,
     "metadata": {},
     "output_type": "execute_result"
    }
   ],
   "source": [
    "tokens_english = nltk.word_tokenize(contractions.fix(texto))\n",
    "tokens_filtrados_english = [token for token in tokens_english if token not in stop_words_english]\n",
    "texto\n"
   ]
  },
  {
   "cell_type": "code",
   "execution_count": 22,
   "id": "bd445c8f",
   "metadata": {},
   "outputs": [
    {
     "data": {
      "text/plain": [
       "['You',\n",
       " 'expand',\n",
       " 'contractions',\n",
       " 'I',\n",
       " 'would',\n",
       " 'think',\n",
       " '!',\n",
       " 'You',\n",
       " 'would',\n",
       " 'able',\n",
       " '.',\n",
       " 'How',\n",
       " '?']"
      ]
     },
     "execution_count": 22,
     "metadata": {},
     "output_type": "execute_result"
    }
   ],
   "source": [
    "tokens_filtrados_english"
   ]
  },
  {
   "cell_type": "markdown",
   "id": "6e8c47e7",
   "metadata": {},
   "source": [
    "Stemming"
   ]
  },
  {
   "cell_type": "code",
   "execution_count": 33,
   "id": "6e996cd9",
   "metadata": {},
   "outputs": [
    {
     "data": {
      "text/plain": [
       "('aaaaaa', 'aaa', 'a')"
      ]
     },
     "execution_count": 33,
     "metadata": {},
     "output_type": "execute_result"
    }
   ],
   "source": [
    "from nltk.stem import PorterStemmer\n",
    "ps = PorterStemmer()\n",
    "ps.stem('aaaaaa'), ps.stem('aaa'), ps.stem('a')\n"
   ]
  },
  {
   "cell_type": "markdown",
   "id": "08a4dc9c",
   "metadata": {},
   "source": [
    "Lemmatization"
   ]
  },
  {
   "cell_type": "code",
   "execution_count": 24,
   "id": "56c1ff8d",
   "metadata": {},
   "outputs": [],
   "source": [
    "from nltk.stem import WordNetLemmatizer\n",
    "wnl = WordNetLemmatizer()"
   ]
  },
  {
   "cell_type": "code",
   "execution_count": 29,
   "id": "433c5c2c",
   "metadata": {},
   "outputs": [
    {
     "name": "stdout",
     "output_type": "stream",
     "text": [
      "car\n",
      "box\n"
     ]
    }
   ],
   "source": [
    "#Lemmatize sustantivos\n",
    "print(wnl.lemmatize('cars', 'n'))\n",
    "print(wnl.lemmatize('boxes', 'n'))"
   ]
  },
  {
   "cell_type": "code",
   "execution_count": 30,
   "id": "0a714a18",
   "metadata": {},
   "outputs": [
    {
     "name": "stdout",
     "output_type": "stream",
     "text": [
      "jump\n",
      "jump\n"
     ]
    }
   ],
   "source": [
    "#Lemmatize verbos\n",
    "print(wnl.lemmatize('jumped', 'v'))\n",
    "print(wnl.lemmatize('jumping', 'v'))"
   ]
  },
  {
   "cell_type": "code",
   "execution_count": 31,
   "id": "7932a375",
   "metadata": {},
   "outputs": [
    {
     "name": "stdout",
     "output_type": "stream",
     "text": [
      "sad\n",
      "fancy\n"
     ]
    }
   ],
   "source": [
    "#Lemmatize adjetivos\n",
    "print(wnl.lemmatize('saddest', 'a'))\n",
    "print(wnl.lemmatize('fancier', 'a'))"
   ]
  },
  {
   "cell_type": "code",
   "execution_count": null,
   "id": "b29d3e32",
   "metadata": {},
   "outputs": [],
   "source": []
  }
 ],
 "metadata": {
  "kernelspec": {
   "display_name": "Python 3 (ipykernel)",
   "language": "python",
   "name": "python3"
  },
  "language_info": {
   "codemirror_mode": {
    "name": "ipython",
    "version": 3
   },
   "file_extension": ".py",
   "mimetype": "text/x-python",
   "name": "python",
   "nbconvert_exporter": "python",
   "pygments_lexer": "ipython3",
   "version": "3.9.9"
  }
 },
 "nbformat": 4,
 "nbformat_minor": 5
}
